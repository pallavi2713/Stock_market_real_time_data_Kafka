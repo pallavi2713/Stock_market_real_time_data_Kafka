{
 "cells": [
  {
   "cell_type": "code",
   "execution_count": 2,
   "id": "a406adf7-1ac3-4786-8c67-a3f3316ee69b",
   "metadata": {},
   "outputs": [
    {
     "name": "stdout",
     "output_type": "stream",
     "text": [
      "Defaulting to user installation because normal site-packages is not writeable\n",
      "Collecting kafka-python\n",
      "  Downloading kafka_python-2.1.5-py2.py3-none-any.whl.metadata (9.2 kB)\n",
      "Downloading kafka_python-2.1.5-py2.py3-none-any.whl (285 kB)\n",
      "   ---------------------------------------- 0.0/285.4 kB ? eta -:--:--\n",
      "   ---------------------------------------- 0.0/285.4 kB ? eta -:--:--\n",
      "   ---------------------------------------- 0.0/285.4 kB ? eta -:--:--\n",
      "   - -------------------------------------- 10.2/285.4 kB ? eta -:--:--\n",
      "   - -------------------------------------- 10.2/285.4 kB ? eta -:--:--\n",
      "   --------- ----------------------------- 71.7/285.4 kB 558.5 kB/s eta 0:00:01\n",
      "   ---------------------------------------- 285.4/285.4 kB 1.6 MB/s eta 0:00:00\n",
      "Installing collected packages: kafka-python\n",
      "Successfully installed kafka-python-2.1.5\n",
      "Note: you may need to restart the kernel to use updated packages.\n"
     ]
    }
   ],
   "source": [
    "pip install kafka-python\n"
   ]
  },
  {
   "cell_type": "code",
   "execution_count": 31,
   "id": "04b6a9ab-1aa4-4235-a896-9901dfbb8e1f",
   "metadata": {},
   "outputs": [],
   "source": [
    "import pandas as pd\n",
    "from kafka import KafkaConsumer , KafkaProducer\n",
    "from time import sleep\n",
    "from json import dumps\n",
    "import json\n"
   ]
  },
  {
   "cell_type": "code",
   "execution_count": 32,
   "id": "26ec1fa4-e7c1-4dbc-8cdb-ffa9822172a8",
   "metadata": {},
   "outputs": [],
   "source": [
    "producer  =  KafkaProducer(bootstrap_servers =['56.228.16.93:9092'],\n",
    "                           value_serializer = lambda x:\n",
    "                           dumps(x).encode('utf-8'))"
   ]
  },
  {
   "cell_type": "code",
   "execution_count": 35,
   "id": "a577f938-f584-4da7-a9a2-ea9a83150f41",
   "metadata": {},
   "outputs": [
    {
     "data": {
      "text/plain": [
       "<kafka.producer.future.FutureRecordMetadata at 0x2837c9222d0>"
      ]
     },
     "execution_count": 35,
     "metadata": {},
     "output_type": "execute_result"
    }
   ],
   "source": [
    "producer.send(\"demo_testing2\" , value= \"{'name': 'Ravi'}\" ) # \"demo_testing2\"  -- Topic name"
   ]
  },
  {
   "cell_type": "code",
   "execution_count": 38,
   "id": "3aa09d39-4bd3-470a-868b-752cd5761e8b",
   "metadata": {},
   "outputs": [],
   "source": [
    "df  =  pd.read_csv(\"downloads/indexProcessed.csv\")"
   ]
  },
  {
   "cell_type": "code",
   "execution_count": 39,
   "id": "af9d9b37-2f0c-443b-a364-530999a6b99c",
   "metadata": {},
   "outputs": [
    {
     "data": {
      "text/html": [
       "<div>\n",
       "<style scoped>\n",
       "    .dataframe tbody tr th:only-of-type {\n",
       "        vertical-align: middle;\n",
       "    }\n",
       "\n",
       "    .dataframe tbody tr th {\n",
       "        vertical-align: top;\n",
       "    }\n",
       "\n",
       "    .dataframe thead th {\n",
       "        text-align: right;\n",
       "    }\n",
       "</style>\n",
       "<table border=\"1\" class=\"dataframe\">\n",
       "  <thead>\n",
       "    <tr style=\"text-align: right;\">\n",
       "      <th></th>\n",
       "      <th>Index</th>\n",
       "      <th>Date</th>\n",
       "      <th>Open</th>\n",
       "      <th>High</th>\n",
       "      <th>Low</th>\n",
       "      <th>Close</th>\n",
       "      <th>Adj Close</th>\n",
       "      <th>Volume</th>\n",
       "      <th>CloseUSD</th>\n",
       "    </tr>\n",
       "  </thead>\n",
       "  <tbody>\n",
       "    <tr>\n",
       "      <th>0</th>\n",
       "      <td>HSI</td>\n",
       "      <td>1986-12-31</td>\n",
       "      <td>2568.300049</td>\n",
       "      <td>2568.300049</td>\n",
       "      <td>2568.300049</td>\n",
       "      <td>2568.300049</td>\n",
       "      <td>2568.300049</td>\n",
       "      <td>0.0</td>\n",
       "      <td>333.879006</td>\n",
       "    </tr>\n",
       "    <tr>\n",
       "      <th>1</th>\n",
       "      <td>HSI</td>\n",
       "      <td>1987-01-02</td>\n",
       "      <td>2540.100098</td>\n",
       "      <td>2540.100098</td>\n",
       "      <td>2540.100098</td>\n",
       "      <td>2540.100098</td>\n",
       "      <td>2540.100098</td>\n",
       "      <td>0.0</td>\n",
       "      <td>330.213013</td>\n",
       "    </tr>\n",
       "    <tr>\n",
       "      <th>2</th>\n",
       "      <td>HSI</td>\n",
       "      <td>1987-01-05</td>\n",
       "      <td>2552.399902</td>\n",
       "      <td>2552.399902</td>\n",
       "      <td>2552.399902</td>\n",
       "      <td>2552.399902</td>\n",
       "      <td>2552.399902</td>\n",
       "      <td>0.0</td>\n",
       "      <td>331.811987</td>\n",
       "    </tr>\n",
       "    <tr>\n",
       "      <th>3</th>\n",
       "      <td>HSI</td>\n",
       "      <td>1987-01-06</td>\n",
       "      <td>2583.899902</td>\n",
       "      <td>2583.899902</td>\n",
       "      <td>2583.899902</td>\n",
       "      <td>2583.899902</td>\n",
       "      <td>2583.899902</td>\n",
       "      <td>0.0</td>\n",
       "      <td>335.906987</td>\n",
       "    </tr>\n",
       "    <tr>\n",
       "      <th>4</th>\n",
       "      <td>HSI</td>\n",
       "      <td>1987-01-07</td>\n",
       "      <td>2607.100098</td>\n",
       "      <td>2607.100098</td>\n",
       "      <td>2607.100098</td>\n",
       "      <td>2607.100098</td>\n",
       "      <td>2607.100098</td>\n",
       "      <td>0.0</td>\n",
       "      <td>338.923013</td>\n",
       "    </tr>\n",
       "  </tbody>\n",
       "</table>\n",
       "</div>"
      ],
      "text/plain": [
       "  Index        Date         Open         High          Low        Close  \\\n",
       "0   HSI  1986-12-31  2568.300049  2568.300049  2568.300049  2568.300049   \n",
       "1   HSI  1987-01-02  2540.100098  2540.100098  2540.100098  2540.100098   \n",
       "2   HSI  1987-01-05  2552.399902  2552.399902  2552.399902  2552.399902   \n",
       "3   HSI  1987-01-06  2583.899902  2583.899902  2583.899902  2583.899902   \n",
       "4   HSI  1987-01-07  2607.100098  2607.100098  2607.100098  2607.100098   \n",
       "\n",
       "     Adj Close  Volume    CloseUSD  \n",
       "0  2568.300049     0.0  333.879006  \n",
       "1  2540.100098     0.0  330.213013  \n",
       "2  2552.399902     0.0  331.811987  \n",
       "3  2583.899902     0.0  335.906987  \n",
       "4  2607.100098     0.0  338.923013  "
      ]
     },
     "execution_count": 39,
     "metadata": {},
     "output_type": "execute_result"
    }
   ],
   "source": [
    "df.head()"
   ]
  },
  {
   "cell_type": "code",
   "execution_count": 41,
   "id": "4b17f467-79f2-4b3e-8297-595afffe6109",
   "metadata": {},
   "outputs": [
    {
     "ename": "KeyboardInterrupt",
     "evalue": "",
     "output_type": "error",
     "traceback": [
      "\u001b[1;31m---------------------------------------------------------------------------\u001b[0m",
      "\u001b[1;31mKeyboardInterrupt\u001b[0m                         Traceback (most recent call last)",
      "Cell \u001b[1;32mIn[41], line 2\u001b[0m\n\u001b[0;32m      1\u001b[0m \u001b[38;5;28;01mwhile\u001b[39;00m \u001b[38;5;28;01mTrue\u001b[39;00m:\n\u001b[1;32m----> 2\u001b[0m  dict_stocks \u001b[38;5;241m=\u001b[39m \u001b[43mdf\u001b[49m\u001b[38;5;241;43m.\u001b[39;49m\u001b[43msample\u001b[49m\u001b[43m(\u001b[49m\u001b[38;5;241;43m1\u001b[39;49m\u001b[43m)\u001b[49m\u001b[38;5;241m.\u001b[39mto_dict( orient \u001b[38;5;241m=\u001b[39m \u001b[38;5;124m\"\u001b[39m\u001b[38;5;124mrecords\u001b[39m\u001b[38;5;124m\"\u001b[39m) [\u001b[38;5;241m0\u001b[39m]\n\u001b[0;32m      3\u001b[0m  producer\u001b[38;5;241m.\u001b[39msend(\u001b[38;5;124m\"\u001b[39m\u001b[38;5;124mdemo_testing2\u001b[39m\u001b[38;5;124m\"\u001b[39m , value\u001b[38;5;241m=\u001b[39m dict_stocks) \n",
      "File \u001b[1;32mC:\\ProgramData\\anaconda3\\Lib\\site-packages\\pandas\\core\\generic.py:6029\u001b[0m, in \u001b[0;36mNDFrame.sample\u001b[1;34m(self, n, frac, replace, weights, random_state, axis, ignore_index)\u001b[0m\n\u001b[0;32m   6026\u001b[0m \u001b[38;5;28;01mif\u001b[39;00m weights \u001b[38;5;129;01mis\u001b[39;00m \u001b[38;5;129;01mnot\u001b[39;00m \u001b[38;5;28;01mNone\u001b[39;00m:\n\u001b[0;32m   6027\u001b[0m     weights \u001b[38;5;241m=\u001b[39m sample\u001b[38;5;241m.\u001b[39mpreprocess_weights(\u001b[38;5;28mself\u001b[39m, weights, axis)\n\u001b[1;32m-> 6029\u001b[0m sampled_indices \u001b[38;5;241m=\u001b[39m \u001b[43msample\u001b[49m\u001b[38;5;241;43m.\u001b[39;49m\u001b[43msample\u001b[49m\u001b[43m(\u001b[49m\u001b[43mobj_len\u001b[49m\u001b[43m,\u001b[49m\u001b[43m \u001b[49m\u001b[43msize\u001b[49m\u001b[43m,\u001b[49m\u001b[43m \u001b[49m\u001b[43mreplace\u001b[49m\u001b[43m,\u001b[49m\u001b[43m \u001b[49m\u001b[43mweights\u001b[49m\u001b[43m,\u001b[49m\u001b[43m \u001b[49m\u001b[43mrs\u001b[49m\u001b[43m)\u001b[49m\n\u001b[0;32m   6030\u001b[0m result \u001b[38;5;241m=\u001b[39m \u001b[38;5;28mself\u001b[39m\u001b[38;5;241m.\u001b[39mtake(sampled_indices, axis\u001b[38;5;241m=\u001b[39maxis)\n\u001b[0;32m   6032\u001b[0m \u001b[38;5;28;01mif\u001b[39;00m ignore_index:\n",
      "File \u001b[1;32mC:\\ProgramData\\anaconda3\\Lib\\site-packages\\pandas\\core\\sample.py:152\u001b[0m, in \u001b[0;36msample\u001b[1;34m(obj_len, size, replace, weights, random_state)\u001b[0m\n\u001b[0;32m    149\u001b[0m     \u001b[38;5;28;01melse\u001b[39;00m:\n\u001b[0;32m    150\u001b[0m         \u001b[38;5;28;01mraise\u001b[39;00m \u001b[38;5;167;01mValueError\u001b[39;00m(\u001b[38;5;124m\"\u001b[39m\u001b[38;5;124mInvalid weights: weights sum to zero\u001b[39m\u001b[38;5;124m\"\u001b[39m)\n\u001b[1;32m--> 152\u001b[0m \u001b[38;5;28;01mreturn\u001b[39;00m random_state\u001b[38;5;241m.\u001b[39mchoice(obj_len, size\u001b[38;5;241m=\u001b[39msize, replace\u001b[38;5;241m=\u001b[39mreplace, p\u001b[38;5;241m=\u001b[39mweights)\u001b[38;5;241m.\u001b[39mastype(\n\u001b[0;32m    153\u001b[0m     np\u001b[38;5;241m.\u001b[39mintp, copy\u001b[38;5;241m=\u001b[39m\u001b[38;5;28;01mFalse\u001b[39;00m\n\u001b[0;32m    154\u001b[0m )\n",
      "\u001b[1;31mKeyboardInterrupt\u001b[0m: "
     ]
    }
   ],
   "source": [
    "while True:\n",
    " dict_stocks = df.sample(1).to_dict( orient = \"records\") [0]\n",
    " producer.send(\"demo_testing2\" , value= dict_stocks) "
   ]
  },
  {
   "cell_type": "code",
   "execution_count": 30,
   "id": "51b1619b-fab5-403a-8d32-151945472baa",
   "metadata": {},
   "outputs": [],
   "source": [
    "producer.flush()"
   ]
  },
  {
   "cell_type": "code",
   "execution_count": null,
   "id": "a7f9ea95-086a-4774-9fec-680bb152064b",
   "metadata": {},
   "outputs": [],
   "source": []
  }
 ],
 "metadata": {
  "kernelspec": {
   "display_name": "Python 3 (ipykernel)",
   "language": "python",
   "name": "python3"
  },
  "language_info": {
   "codemirror_mode": {
    "name": "ipython",
    "version": 3
   },
   "file_extension": ".py",
   "mimetype": "text/x-python",
   "name": "python",
   "nbconvert_exporter": "python",
   "pygments_lexer": "ipython3",
   "version": "3.11.7"
  }
 },
 "nbformat": 4,
 "nbformat_minor": 5
}
